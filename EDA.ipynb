{
 "cells": [
  {
   "metadata": {},
   "cell_type": "code",
   "source": [
    "import requests\n",
    "import pandas as pd"
   ],
   "id": "7a7f714782709f45",
   "outputs": [],
   "execution_count": null
  },
  {
   "metadata": {},
   "cell_type": "code",
   "source": "r = requests.get(\"https://gutendex.com/books/?topic=children\").json()\n",
   "id": "b9d8c07a00aa308e",
   "outputs": [],
   "execution_count": null
  },
  {
   "cell_type": "code",
   "id": "initial_id",
   "metadata": {
    "collapsed": true
   },
   "source": [
    "books = pd.DataFrame()\n",
    "for b in r[\"results\"][:150]:\n",
    "    # book_author = b[\"title\"], \"-\", b[\"authors\"][0][\"name\"]\n",
    "    books[\"title\"] = b[\"title\"]\n",
    "    books[\"author\"] = b[\"authors\"][0][\"name\"]\n",
    "    # books[\"name\"] = b[\"authors\"][0][\"name\"]\n",
    "    print(b[\"title\"], \"-\", b[\"authors\"][0][\"name\"])\n",
    "\n",
    "books.head()\n"
   ],
   "outputs": [],
   "execution_count": null
  },
  {
   "metadata": {},
   "cell_type": "code",
   "source": "b",
   "id": "9b9d1faad57ea3ec",
   "outputs": [],
   "execution_count": null
  },
  {
   "metadata": {},
   "cell_type": "code",
   "source": [
    "import os\n",
    "import yaml\n",
    "from functools import lru_cache\n",
    "yaml_path = '/Users/brandonedwards/Library/CloudStorage/OneDrive-Personal/Python Projects/GitHub/PythonProject/HomeworkHelper/data/grammar_concept_map.yaml'"
   ],
   "id": "7215e572fdec6d5a",
   "outputs": [],
   "execution_count": null
  },
  {
   "metadata": {},
   "cell_type": "code",
   "source": [
    "def _load_concept_map_uncached(subject: str = \"grammar\"):\n",
    "    \"\"\"\n",
    "    Loads the concept map YAML for a given subject (e.g., grammar, math).\n",
    "    Falls back gracefully if the file doesn't exist.\n",
    "    \"\"\"\n",
    "\n",
    "    if not os.path.exists(yaml_path):\n",
    "        raise FileNotFoundError(f\"No concept map found for subject: {subject} ({yaml_path})\")\n",
    "\n",
    "    with open(yaml_path, \"r\") as f:\n",
    "        print(f\"DEBUG: Loading YAML: {yaml.safe_load(f)}\")\n",
    "        return yaml.safe_load(f)\n",
    "\n",
    "@lru_cache(maxsize=None)\n",
    "def load_concept_map(subject: str = \"grammar\"):\n",
    "    return _load_concept_map_uncached(subject)"
   ],
   "id": "bc5a87432890e9e2",
   "outputs": [],
   "execution_count": null
  },
  {
   "metadata": {},
   "cell_type": "code",
   "source": [
    "with open(yaml_path, \"r\") as f:\n",
    "    \n",
    "    # print(f\"DEBUG: Loading YAML: {yaml.safe_load(f)}\")\n",
    "    yaml_file = yaml.safe_load(f)\n",
    "    # print(yaml.safe_load(f))"
   ],
   "id": "cbf9844a5616bbe7",
   "outputs": [],
   "execution_count": null
  },
  {
   "metadata": {},
   "cell_type": "code",
   "source": "yaml_file['grammar'].keys()",
   "id": "1b37b1bacc7f4727",
   "outputs": [],
   "execution_count": null
  },
  {
   "metadata": {},
   "cell_type": "code",
   "source": [
    "def get_question_focus(topic: str, subject: str = \"grammar\") -> str:\n",
    "    \"\"\"\n",
    "    Retrieves the 'question_focus' prompt for a given topic from the concept map YAML.\n",
    "    Returns None if not found.\n",
    "    \"\"\"\n",
    "    import streamlit as st\n",
    "    try:\n",
    "        concept_map = load_concept_map(subject)\n",
    "        if not concept_map:\n",
    "            st.write(\"DEBUG: Concept map is None or empty.\")\n",
    "            return None\n",
    "        st.write(f\"DEBUG: Loaded concept map keys: {list(concept_map.keys())}\")\n",
    "\n",
    "        for category, topics in concept_map.items():\n",
    "            st.write(f\"DEBUG: Checking category '{category}'\")\n",
    "            if isinstance(topics, dict):\n",
    "                for t_key, t_val in topics.items():\n",
    "                    st.write(f\"DEBUG: Checking topic '{t_key}' in category '{category}'\")\n",
    "                    if t_key == topic:\n",
    "                        st.write(f\"DEBUG: Found topic match: {topic} in category '{category}'\")\n",
    "                        qf = t_val.get(\"question_focus\")\n",
    "                        st.write(f\"DEBUG: Question focus: {qf}\")\n",
    "                        return qf\n",
    "    except Exception as e:\n",
    "        st.write(f\"DEBUG: Exception in get_question_focus: {e}\")\n",
    "        pass\n",
    "    return None"
   ],
   "id": "5185eff97a934c89",
   "outputs": [],
   "execution_count": null
  },
  {
   "metadata": {},
   "cell_type": "code",
   "source": "print(concept_map)",
   "id": "40a704511d4be711",
   "outputs": [],
   "execution_count": null
  },
  {
   "metadata": {},
   "cell_type": "code",
   "source": [
    "def detect_category_for_topic(topic: str, subject: str = \"grammar\") -> str:\n",
    "    \"\"\"\n",
    "    Detects which category a topic belongs to within a subject's concept map.\n",
    "    Returns 'general' if not found.\n",
    "    \"\"\"\n",
    "    import streamlit as st\n",
    "\n",
    "    try:\n",
    "        concept_map = load_concept_map(subject)\n",
    "        subject_data = concept_map.get(subject, concept_map)\n",
    "        print(f\"DEBUG: Loaded concept map keys: {list(subject_data.keys())}\")\n",
    "\n",
    "        topic_lower = topic.lower()\n",
    "\n",
    "        for category, topics in subject_data.items():\n",
    "            if isinstance(topics, list):\n",
    "                # For simple list categories like ['verbs', 'nouns', ...]\n",
    "                if any(t.lower() == topic_lower for t in topics):\n",
    "                    print(f\"DEBUG: Found match for topic '{topic}' in category '{category}'\")\n",
    "                    return category\n",
    "\n",
    "            elif isinstance(topics, dict):\n",
    "                # For nested dict structures\n",
    "                for subcat, subtopics in topics.items():\n",
    "                    if isinstance(subtopics, list) and any(t.lower() == topic_lower for t in subtopics):\n",
    "                        print(f\"DEBUG: Found match for topic '{topic}' in subcategory '{subcat}' under '{category}'\")\n",
    "                        return subcat\n",
    "\n",
    "    except Exception as e:\n",
    "        print(f\"DEBUG: Exception in detect_category_for_topic: {e}\")\n",
    "\n",
    "    return \"general\""
   ],
   "id": "53131b1ed72b5dde",
   "outputs": [],
   "execution_count": null
  },
  {
   "metadata": {},
   "cell_type": "code",
   "source": [
    "from utils.concept_map_db import get_concept\n",
    "\n",
    "print(get_concept(\"comma\"))\n",
    "import os\n",
    "\n",
    "# Use relative path from notebook location\n",
    "DB_PATH = os.path.abspath(\"../data/homework_helper.db\")\n",
    "# or if notebook is in project root:\n",
    "# DB_PATH = os.path.abspath(\"./data/homework_helper.db\")\n",
    "DB_PATH\n"
   ],
   "id": "b1576b534de4cd31",
   "outputs": [],
   "execution_count": null
  },
  {
   "metadata": {},
   "cell_type": "code",
   "source": [
    "import yaml\n",
    "\n",
    "with open(\"data/grammar_combined.yaml\", \"r\") as f:\n",
    "    data = yaml.safe_load(f)\n",
    "\n",
    "print(len(data.keys()))\n",
    "print(list(data.keys())[:5])  # preview first few topics"
   ],
   "id": "57052d1409dcb8f3",
   "outputs": [],
   "execution_count": null
  },
  {
   "metadata": {
    "ExecuteTime": {
     "end_time": "2025-10-20T19:18:00.845421Z",
     "start_time": "2025-10-20T19:18:00.708853Z"
    }
   },
   "cell_type": "code",
   "source": [
    "import datetime, os, yaml, sys, streamlit as st, sqlite3\n",
    "from datetime import datetime\n",
    "from utils.topic_manager import sync_topics_to_concepts\n",
    "\n",
    "\n",
    "DB_PATH = \"data/homework_helper.db\"\n",
    "def get_connection():\n",
    "    return sqlite3.connect(DB_PATH)\n",
    "YAML_PATH = \"data/grammar_hints.yaml\"\n"
   ],
   "id": "91ce5882b1d1d939",
   "outputs": [],
   "execution_count": 1
  },
  {
   "metadata": {
    "ExecuteTime": {
     "end_time": "2025-10-20T19:18:02.412764Z",
     "start_time": "2025-10-20T19:18:02.394774Z"
    }
   },
   "cell_type": "code",
   "source": "sync_topics_to_concepts()",
   "id": "d0a986efd3093b23",
   "outputs": [
    {
     "name": "stdout",
     "output_type": "stream",
     "text": [
      "⏩ Skipped (already exists): subject='grammar', topic='noun'\n",
      "⏩ Skipped (already exists): subject='grammar', topic='verb'\n",
      "⏩ Skipped (already exists): subject='grammar', topic='adjective'\n",
      "⏩ Skipped (already exists): subject='grammar', topic='adverb'\n",
      "⏩ Skipped (already exists): subject='grammar', topic='pronoun'\n",
      "⏩ Skipped (already exists): subject='grammar', topic='preposition'\n",
      "⏩ Skipped (already exists): subject='grammar', topic='conjunction'\n",
      "⏩ Skipped (already exists): subject='grammar', topic='interjection'\n",
      "⏩ Skipped (already exists): subject='grammar', topic='subject'\n",
      "⏩ Skipped (already exists): subject='grammar', topic='predicate'\n",
      "✅ Inserted: subject='grammar', topic='clause'\n",
      "✅ Inserted: subject='grammar', topic='phrase'\n",
      "⏩ Skipped (already exists): subject='grammar', topic='simile'\n",
      "⏩ Skipped (already exists): subject='grammar', topic='metaphor'\n",
      "⏩ Skipped (already exists): subject='grammar', topic='synonym'\n",
      "⏩ Skipped (already exists): subject='grammar', topic='antonym'\n",
      "⏩ Skipped (already exists): subject='grammar', topic='homonym'\n",
      "⏩ Skipped (already exists): subject='grammar', topic='prefix'\n",
      "⏩ Skipped (already exists): subject='grammar', topic='suffix'\n",
      "⏩ Skipped (already exists): subject='grammar', topic='compound_sentence'\n",
      "⏩ Skipped (already exists): subject='grammar', topic='complex_sentence'\n",
      "⏩ Skipped (already exists): subject='grammar', topic='comma'\n",
      "⏩ Skipped (already exists): subject='grammar', topic='quotation_marks'\n",
      "⏩ Skipped (already exists): subject='grammar', topic='capitalization'\n",
      "⏩ Skipped (already exists): subject='grammar', topic='apostrophe'\n",
      "⏩ Skipped (already exists): subject='grammar', topic='run_on_sentence'\n",
      "⏩ Skipped (already exists): subject='grammar', topic='fragment'\n",
      "⏩ Skipped (already exists): subject='grammar', topic='subject_verb_agreement'\n",
      "⏩ Skipped (already exists): subject='grammar', topic='punctuation'\n",
      "⏩ Skipped (already exists): subject='grammar', topic='semicolon'\n",
      "⏩ Skipped (already exists): subject='grammar', topic='colon'\n",
      "⏩ Skipped (already exists): subject='grammar', topic='paragraph'\n",
      "✅ Inserted: subject='grammar', topic='transition_words'\n",
      "⏩ Skipped (already exists): subject='grammar', topic='declarative_sentence'\n",
      "⏩ Skipped (already exists): subject='grammar', topic='interrogative_sentence'\n",
      "⏩ Skipped (already exists): subject='grammar', topic='imperative_sentence'\n",
      "⏩ Skipped (already exists): subject='grammar', topic='exclamatory_sentence'\n",
      "✅ Inserted: subject='grammar', topic='article'\n",
      "✅ Inserted: subject='grammar', topic='modifier'\n",
      "⏩ Skipped (already exists): subject='grammar', topic='simple_sentence'\n",
      "⏩ Skipped (already exists): subject='grammar', topic='compound_complex_sentence'\n",
      "⏩ Skipped (already exists): subject='grammar', topic='sentence_fragment'\n",
      "✅ Inserted: subject='grammar', topic='verb_tense'\n",
      "✅ Inserted: subject='grammar', topic='period'\n",
      "⏩ Skipped (already exists): subject='grammar', topic='question_mark'\n",
      "⏩ Skipped (already exists): subject='grammar', topic='exclamation_point'\n",
      "⏩ Skipped (already exists): subject='grammar', topic='parentheses'\n",
      "✅ Inserted: subject='grammar', topic='hyphen_dash'\n",
      "✅ Inserted: subject='grammar', topic='clarity'\n",
      "✅ Inserted: subject='grammar', topic='coherence'\n",
      "✅ Inserted: subject='grammar', topic='sentence_variety'\n",
      "✅ Inserted: subject='grammar', topic='transitions'\n",
      "✅ Inserted: subject='grammar', topic='word_choice'\n",
      "✅ Inserted: subject='grammar', topic='conciseness'\n",
      "✅ Inserted: subject='grammar', topic='redundancy'\n",
      "✅ Inserted: subject='grammar', topic='tone'\n",
      "✅ Inserted: subject='grammar', topic='active_vs_passive_voice'\n",
      "✅ Inserted: subject='grammar', topic='parallel_structure'\n",
      "✅ Inserted: subject='grammar', topic='personification'\n",
      "✅ Inserted: subject='grammar', topic='alliteration'\n",
      "✅ Inserted: subject='grammar', topic='onomatopoeia'\n",
      "✅ Inserted: subject='grammar', topic='hyperbole'\n",
      "⏩ Skipped (already exists): subject='grammar', topic='idiom'\n",
      "✅ Inserted: subject='grammar', topic='homophone'\n",
      "✅ Inserted: subject='grammar', topic='root_word'\n",
      "✅ Inserted: subject='grammar', topic='context_clues'\n",
      "✅ Inserted: subject='grammar', topic='multiple_meanings'\n",
      "Summary: Inserted: 26, Skipped: 41\n"
     ]
    }
   ],
   "execution_count": 2
  },
  {
   "metadata": {},
   "cell_type": "code",
   "source": "",
   "id": "4d67d9c241ed64b4",
   "outputs": [],
   "execution_count": null
  },
  {
   "metadata": {},
   "cell_type": "code",
   "source": "",
   "id": "6ff84950051360be",
   "outputs": [],
   "execution_count": null
  },
  {
   "metadata": {},
   "cell_type": "code",
   "source": "",
   "id": "3057768c50d6859e",
   "outputs": [],
   "execution_count": null
  },
  {
   "metadata": {},
   "cell_type": "code",
   "source": "",
   "id": "e1915e12b5286de1",
   "outputs": [],
   "execution_count": null
  }
 ],
 "metadata": {
  "kernelspec": {
   "display_name": "Python 3",
   "language": "python",
   "name": "python3"
  },
  "language_info": {
   "codemirror_mode": {
    "name": "ipython",
    "version": 2
   },
   "file_extension": ".py",
   "mimetype": "text/x-python",
   "name": "python",
   "nbconvert_exporter": "python",
   "pygments_lexer": "ipython2",
   "version": "2.7.6"
  }
 },
 "nbformat": 4,
 "nbformat_minor": 5
}
