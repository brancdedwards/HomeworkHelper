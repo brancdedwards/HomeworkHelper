{
 "cells": [
  {
   "metadata": {
    "ExecuteTime": {
     "end_time": "2025-10-14T21:17:34.625228Z",
     "start_time": "2025-10-14T21:17:33.654133Z"
    }
   },
   "cell_type": "code",
   "source": [
    "import requests\n",
    "import pandas as pd"
   ],
   "id": "7a7f714782709f45",
   "outputs": [],
   "execution_count": 12
  },
  {
   "metadata": {},
   "cell_type": "code",
   "outputs": [],
   "execution_count": null,
   "source": "r = requests.get(\"https://gutendex.com/books/?topic=children\").json()\n",
   "id": "b9d8c07a00aa308e"
  },
  {
   "cell_type": "code",
   "id": "initial_id",
   "metadata": {
    "collapsed": true,
    "ExecuteTime": {
     "end_time": "2025-10-14T21:20:44.118725Z",
     "start_time": "2025-10-14T21:20:44.099917Z"
    }
   },
   "source": [
    "books = pd.DataFrame()\n",
    "for b in r[\"results\"][:150]:\n",
    "    # book_author = b[\"title\"], \"-\", b[\"authors\"][0][\"name\"]\n",
    "    books[\"title\"] = b[\"title\"]\n",
    "    books[\"author\"] = b[\"authors\"][0][\"name\"]\n",
    "    # books[\"name\"] = b[\"authors\"][0][\"name\"]\n",
    "    print(b[\"title\"], \"-\", b[\"authors\"][0][\"name\"])\n",
    "\n",
    "books.head()\n"
   ],
   "outputs": [
    {
     "name": "stdout",
     "output_type": "stream",
     "text": [
      "Alice's Adventures in Wonderland - Carroll, Lewis\n",
      "Little Women; Or, Meg, Jo, Beth, and Amy - Alcott, Louisa May\n",
      "The Scarlet Letter - Hawthorne, Nathaniel\n",
      "Adventures of Huckleberry Finn - Twain, Mark\n",
      "Grimms' Fairy Tales - Grimm, Jacob\n",
      "A Christmas Carol in Prose; Being a Ghost Story of Christmas - Dickens, Charles\n",
      "The Legend of Sleepy Hollow - Irving, Washington\n",
      "Anne of Green Gables - Montgomery, L. M. (Lucy Maud)\n",
      "The Adventures of Tom Sawyer, Complete - Twain, Mark\n",
      "The Wonderful Wizard of Oz - Baum, L. Frank (Lyman Frank)\n",
      "Bleak House - Dickens, Charles\n",
      "Peter Pan : $b [Peter and Wendy] - Barrie, J. M. (James Matthew)\n",
      "Through the Looking-Glass - Carroll, Lewis\n",
      "Treasure Island - Stevenson, Robert Louis\n",
      "Little Women - Alcott, Louisa May\n",
      "The Jungle Book - Kipling, Rudyard\n",
      "Golden Days for Boys and Girls, Vol. XII, Jan. 3, 1891 - Various\n",
      "The Book of Nonsense - Lear, Edward\n",
      "Tess of the d'Urbervilles: A Pure Woman - Hardy, Thomas\n",
      "The Turn of the Screw - James, Henry\n",
      "Struwwelpeter: Merry Stories and Funny Pictures - Hoffmann, Heinrich\n",
      "Der Struwwelpeter: oder lustige Geschichten und drollige Bilder - Hoffmann, Heinrich\n",
      "Aesop's Fables; a new translation - Aesop\n",
      "The Secret Garden - Burnett, Frances Hodgson\n",
      "Winnie-the-Pooh - Milne, A. A. (Alan Alexander)\n",
      "The Prince and the Pauper - Twain, Mark\n",
      "Just so stories - Kipling, Rudyard\n",
      "The Happy Prince, and Other Tales - Wilde, Oscar\n",
      "The Tale of Peter Rabbit - Potter, Beatrix\n",
      "Personal Memoirs of U. S. Grant, Complete - Grant, Ulysses S. (Ulysses Simpson)\n",
      "Mansfield Park - Austen, Jane\n",
      "The Tenniel Illustrations for Carroll's Alice in Wonderland - Tenniel, John\n"
     ]
    },
    {
     "data": {
      "text/plain": [
       "Empty DataFrame\n",
       "Columns: [title, author]\n",
       "Index: []"
      ],
      "text/html": [
       "<div>\n",
       "<style scoped>\n",
       "    .dataframe tbody tr th:only-of-type {\n",
       "        vertical-align: middle;\n",
       "    }\n",
       "\n",
       "    .dataframe tbody tr th {\n",
       "        vertical-align: top;\n",
       "    }\n",
       "\n",
       "    .dataframe thead th {\n",
       "        text-align: right;\n",
       "    }\n",
       "</style>\n",
       "<table border=\"1\" class=\"dataframe\">\n",
       "  <thead>\n",
       "    <tr style=\"text-align: right;\">\n",
       "      <th></th>\n",
       "      <th>title</th>\n",
       "      <th>author</th>\n",
       "    </tr>\n",
       "  </thead>\n",
       "  <tbody>\n",
       "  </tbody>\n",
       "</table>\n",
       "</div>"
      ]
     },
     "execution_count": 21,
     "metadata": {},
     "output_type": "execute_result"
    }
   ],
   "execution_count": 21
  },
  {
   "metadata": {
    "ExecuteTime": {
     "end_time": "2025-10-14T21:21:12.078445Z",
     "start_time": "2025-10-14T21:21:12.070797Z"
    }
   },
   "cell_type": "code",
   "source": "b",
   "id": "9b9d1faad57ea3ec",
   "outputs": [
    {
     "data": {
      "text/plain": [
       "{'id': 114,\n",
       " 'title': \"The Tenniel Illustrations for Carroll's Alice in Wonderland\",\n",
       " 'authors': [{'name': 'Tenniel, John',\n",
       "   'birth_year': 1820,\n",
       "   'death_year': 1914}],\n",
       " 'summaries': [],\n",
       " 'editors': [],\n",
       " 'translators': [],\n",
       " 'subjects': [\"Children's stories\", 'Fantasy fiction'],\n",
       " 'bookshelves': [],\n",
       " 'languages': ['en'],\n",
       " 'copyright': False,\n",
       " 'media_type': 'StillImage',\n",
       " 'formats': {'text/html': 'https://www.gutenberg.org/files/114/114-h/114-h.htm',\n",
       "  'text/plain; charset=us-ascii': 'https://www.gutenberg.org/files/114/114-0.txt',\n",
       "  'application/rdf+xml': 'https://www.gutenberg.org/ebooks/114.rdf',\n",
       "  'image/jpeg': 'https://www.gutenberg.org/cache/epub/114/pg114.cover.medium.jpg'},\n",
       " 'download_count': 6795}"
      ]
     },
     "execution_count": 22,
     "metadata": {},
     "output_type": "execute_result"
    }
   ],
   "execution_count": 22
  },
  {
   "metadata": {},
   "cell_type": "code",
   "outputs": [],
   "execution_count": null,
   "source": "",
   "id": "7215e572fdec6d5a"
  },
  {
   "metadata": {},
   "cell_type": "code",
   "outputs": [],
   "execution_count": null,
   "source": "",
   "id": "bc5a87432890e9e2"
  },
  {
   "metadata": {},
   "cell_type": "code",
   "outputs": [],
   "execution_count": null,
   "source": "",
   "id": "53131b1ed72b5dde"
  },
  {
   "metadata": {},
   "cell_type": "code",
   "outputs": [],
   "execution_count": null,
   "source": "",
   "id": "4cecad40578e2218"
  }
 ],
 "metadata": {
  "kernelspec": {
   "display_name": "Python 3",
   "language": "python",
   "name": "python3"
  },
  "language_info": {
   "codemirror_mode": {
    "name": "ipython",
    "version": 2
   },
   "file_extension": ".py",
   "mimetype": "text/x-python",
   "name": "python",
   "nbconvert_exporter": "python",
   "pygments_lexer": "ipython2",
   "version": "2.7.6"
  }
 },
 "nbformat": 4,
 "nbformat_minor": 5
}
